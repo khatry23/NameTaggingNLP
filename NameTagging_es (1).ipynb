{
  "nbformat": 4,
  "nbformat_minor": 0,
  "metadata": {
    "colab": {
      "name": "NameTagging_es.ipynb",
      "version": "0.3.2",
      "provenance": [],
      "collapsed_sections": []
    },
    "kernelspec": {
      "name": "python2",
      "display_name": "Python 2"
    },
    "accelerator": "GPU"
  },
  "cells": [
    {
      "metadata": {
        "id": "P1OjC728E7gW",
        "colab_type": "code",
        "colab": {}
      },
      "cell_type": "code",
      "source": [
        "!git clone https://github.com/tmikolov/word2vec.git"
      ],
      "execution_count": 0,
      "outputs": []
    },
    {
      "metadata": {
        "id": "ubMM_WruInMY",
        "colab_type": "code",
        "outputId": "145e69f0-22f6-4043-e019-0ac47fcdd422",
        "colab": {
          "base_uri": "https://localhost:8080/",
          "height": 34
        }
      },
      "cell_type": "code",
      "source": [
        "%cd /content/word2vec"
      ],
      "execution_count": 0,
      "outputs": [
        {
          "output_type": "stream",
          "text": [
            "/content/word2vec\n"
          ],
          "name": "stdout"
        }
      ]
    },
    {
      "metadata": {
        "id": "ogtrXeSwIx3j",
        "colab_type": "code",
        "colab": {}
      },
      "cell_type": "code",
      "source": [
        "!make"
      ],
      "execution_count": 0,
      "outputs": []
    },
    {
      "metadata": {
        "id": "yNFRPMiHY5tp",
        "colab_type": "code",
        "outputId": "b196209b-94a0-4281-e3f6-904231eb9dc0",
        "colab": {
          "base_uri": "https://localhost:8080/",
          "height": 34
        }
      },
      "cell_type": "code",
      "source": [
        "%cd /content/"
      ],
      "execution_count": 0,
      "outputs": [
        {
          "output_type": "stream",
          "text": [
            "/content\n"
          ],
          "name": "stdout"
        }
      ]
    },
    {
      "metadata": {
        "id": "BzDu0PKJI15E",
        "colab_type": "code",
        "colab": {}
      },
      "cell_type": "code",
      "source": [
        "!wget -c http://nlp.cs.rpi.edu/course/spring19/eswiki.tar.gz"
      ],
      "execution_count": 0,
      "outputs": []
    },
    {
      "metadata": {
        "id": "Wr7atZ9CJxtY",
        "colab_type": "code",
        "outputId": "394e79d2-a6e3-41a2-f7fc-1ef1d10bce62",
        "colab": {
          "base_uri": "https://localhost:8080/",
          "height": 34
        }
      },
      "cell_type": "code",
      "source": [
        "!tar -xvzf eswiki.tar.gz"
      ],
      "execution_count": 0,
      "outputs": [
        {
          "output_type": "stream",
          "text": [
            "eswiki.txt\n"
          ],
          "name": "stdout"
        }
      ]
    },
    {
      "metadata": {
        "id": "AvE2MRcUZYdr",
        "colab_type": "code",
        "outputId": "c3e8da27-1567-47aa-ab15-b1e8bc9faf61",
        "colab": {
          "base_uri": "https://localhost:8080/",
          "height": 34
        }
      },
      "cell_type": "code",
      "source": [
        "%cd /content/"
      ],
      "execution_count": 0,
      "outputs": [
        {
          "output_type": "stream",
          "text": [
            "/content\n"
          ],
          "name": "stdout"
        }
      ]
    },
    {
      "metadata": {
        "id": "rUy67ml5LN6b",
        "colab_type": "code",
        "outputId": "ff9422ba-8df9-4b2c-9e50-8bee4635c1a7",
        "colab": {
          "base_uri": "https://localhost:8080/",
          "height": 84
        }
      },
      "cell_type": "code",
      "source": [
        "!./word2vec -train /content/eswiki.txt -output /content/outputes.txt -size 50 -window 5 -negative 10 -cbow 1 -threads 10 -iter 5 -min-count 5"
      ],
      "execution_count": 0,
      "outputs": [
        {
          "output_type": "stream",
          "text": [
            "Starting training using file /content/eswiki.txt\n",
            "Vocab size: 546163\n",
            "Words in train file: 333571785\n",
            "Alpha: 0.004000  Progress: 92.00%  Words/thread/sec: 225.43k  "
          ],
          "name": "stdout"
        }
      ]
    },
    {
      "metadata": {
        "id": "KGfPjM65nhwy",
        "colab_type": "code",
        "outputId": "ed9cc168-b8fc-4555-c65b-fdf36ed6fd14",
        "colab": {
          "base_uri": "https://localhost:8080/",
          "height": 34
        }
      },
      "cell_type": "code",
      "source": [
        "%cd /content/"
      ],
      "execution_count": 0,
      "outputs": [
        {
          "output_type": "stream",
          "text": [
            "/content\n"
          ],
          "name": "stdout"
        }
      ]
    },
    {
      "metadata": {
        "id": "BrBNqCJHSBtl",
        "colab_type": "code",
        "outputId": "d095824b-cd2e-40cd-ba24-e3ac93a9d1ec",
        "colab": {
          "base_uri": "https://localhost:8080/",
          "height": 34
        }
      },
      "cell_type": "code",
      "source": [
        "!git clone https://github.com/glample/tagger.git"
      ],
      "execution_count": 0,
      "outputs": [
        {
          "output_type": "stream",
          "text": [
            "fatal: destination path 'tagger' already exists and is not an empty directory.\n"
          ],
          "name": "stdout"
        }
      ]
    },
    {
      "metadata": {
        "id": "e9tD5rmPsnSX",
        "colab_type": "code",
        "outputId": "79cf4f76-8c36-487c-afbc-13b6d7ca334d",
        "colab": {
          "base_uri": "https://localhost:8080/",
          "height": 34
        }
      },
      "cell_type": "code",
      "source": [
        "%cd tagger"
      ],
      "execution_count": 0,
      "outputs": [
        {
          "output_type": "stream",
          "text": [
            "/content/tagger\n"
          ],
          "name": "stdout"
        }
      ]
    },
    {
      "metadata": {
        "id": "zVJz1hcTV9LL",
        "colab_type": "code",
        "colab": {}
      },
      "cell_type": "code",
      "source": [
        "!./train.py --train /content/esp.train.clean.bio --dev /content/esp.dev.clean.bio --test /content/esp.test.clean.bio --char_dim 50 --word_dim 50 --pre_emb /content/outputes.txt"
      ],
      "execution_count": 0,
      "outputs": []
    },
    {
      "metadata": {
        "id": "cY73tSwzIPZB",
        "colab_type": "code",
        "colab": {}
      },
      "cell_type": "code",
      "source": [
        "!wget -c http://nlp.cs.rpi.edu/course/spring19/name_tagging.tar.gz"
      ],
      "execution_count": 0,
      "outputs": []
    },
    {
      "metadata": {
        "id": "Pp4_ogL_esXT",
        "colab_type": "code",
        "colab": {}
      },
      "cell_type": "code",
      "source": [
        "filename = open('/content/esp.test.clean.bio')\n",
        "output = open('/content/testesp.txt','w')\n",
        "Final_list=[]\n",
        "a=''\n",
        "for i in filename:\n",
        "  if i != '\\n':\n",
        "    #print i\n",
        "    file = i.strip()\n",
        "    file=file.split(' ')\n",
        "    for j in range (0,len(file)):\n",
        "      if j==0:\n",
        "        a=a+file[j]+' '\n",
        "  else:\n",
        "    a=a.strip()\n",
        "    #Final_list.append(a)\n",
        "    output.write(a)\n",
        "    print(a)\n",
        "    a=''\n",
        "    a='\\n'\n",
        "    output.write(a)\n",
        "output.close()\n",
        "filename.close()"
      ],
      "execution_count": 0,
      "outputs": []
    },
    {
      "metadata": {
        "id": "C4mig-XS8eSY",
        "colab_type": "code",
        "colab": {}
      },
      "cell_type": "code",
      "source": [
        "filename = open('/content/esp.test.clean.bio','r')\n",
        "#output = open('/content/testfile.txt','w')\n",
        "tags = open('/content/testtags2.txt','w')\n",
        "#Final_list=[]\n",
        "a=''\n",
        "tag =''\n",
        "for i in filename:\n",
        "  if i != '\\n':\n",
        "    #print i\n",
        "    file = i.strip()\n",
        "    #print(file)\n",
        "    file=file.split(' ')\n",
        "    for j in range (0,len(file)):\n",
        "      if j ==0:\n",
        "        a=a+file[j]+'__'\n",
        "      else:\n",
        "        a = a+file[j]+ ' '\n",
        "\n",
        "    #output.write(a)\n",
        "    tags.write(a)\n",
        "    print(a)\n",
        "    print(\"\"\"----\"\"\")\n",
        "    #print(tag)\n",
        "    a=''\n",
        "    #tag=''\n",
        "#output.close()\n",
        "filename.close()\n",
        "tags.close()"
      ],
      "execution_count": 0,
      "outputs": []
    },
    {
      "metadata": {
        "id": "0IOh5eeRfkWb",
        "colab_type": "code",
        "outputId": "71d075a7-90ce-45ae-88fc-3a9b96b79b48",
        "colab": {
          "base_uri": "https://localhost:8080/",
          "height": 171
        }
      },
      "cell_type": "code",
      "source": [
        "!./tagger.py --model /content/tagger/models/tag_scheme=iobes,lower=False,zeros=False,char_dim=50,char_lstm_dim=25,char_bidirect=True,word_dim=50,word_lstm_dim=100,word_bidirect=True,pre_emb=outputes.txt,all_emb=False,cap_dim=0,crf=True,dropout=0.5,lr_method=sgd-lr_.005 --input /content/testfile.txt  --output /content/predicttags.txt"
      ],
      "execution_count": 0,
      "outputs": [
        {
          "output_type": "stream",
          "text": [
            "Loading model...\n",
            "Compiling...\n",
            "WARNING (theano.tensor.blas): We did not find a dynamic library in the library_dir of the library we use for blas. If you use ATLAS, make sure to compile it with dynamics library.\n",
            "WARNING (theano.tensor.blas): We did not find a dynamic library in the library_dir of the library we use for blas. If you use ATLAS, make sure to compile it with dynamics library.\n",
            "Tagging...\n",
            "tcmalloc: large alloc 1220419584 bytes == 0x55bd6f3c6000 @  0x7f78ed4001e7 0x7f78eb23dcf1 0x7f78eb2a03a2 0x7f78eb2a045a 0x7f78eb2efcb4 0x7f78cd6a9150 0x7f78e2e4a733 0x7f78e2e4b174 0x7f78e2e4b0d9 0x7f78e2e4b0d9 0x7f78e2e4b0d9 0x7f78e2e4b0d9 0x7f78e2e4b0d9 0x7f78e2e4b0d9 0x7f78e2e4b0d9 0x7f78e2e4b0d9 0x7f78e2e4b0d9 0x7f78e2e4b0d9 0x7f78e2e4b0d9 0x7f78e2e4b0d9 0x7f78e2e4b0d9 0x7f78e2e4b0d9 0x7f78e2e4b0d9 0x7f78e2e4b0d9 0x7f78e2e4b0d9 0x7f78e2e4b0d9 0x7f78e2e4b0d9 0x7f78e2e4b0d9 0x7f78e2e4b0d9 0x7f78e2e4b0d9 0x7f78e2e4b0d9\n",
            "tcmalloc: large alloc 1220419584 bytes == 0x55bd6dc7e000 @  0x7f78ed4001e7 0x7f78eb23dcf1 0x7f78eb2a03a2 0x7f78eb2a045a 0x7f78eb2efcb4 0x7f78cd6a9150 0x7f78e2e4a733 0x7f78e2e4b174 0x7f78e2e4b0d9 0x7f78e2e4b0d9 0x7f78e2e4b0d9 0x7f78e2e4b0d9 0x7f78e2e4b0d9 0x7f78e2e4b0d9 0x7f78e2e4b0d9 0x7f78e2e4b0d9 0x7f78e2e4b0d9 0x7f78e2e4b0d9 0x7f78e2e4b0d9 0x7f78e2e4b0d9 0x7f78e2e4b0d9 0x7f78e2e4b0d9 0x7f78e2e4b0d9 0x7f78e2e4b0d9 0x7f78e2e4b0d9 0x7f78e2e4b0d9 0x7f78e2e4b0d9 0x7f78e2e4b0d9 0x7f78e2e4b0d9 0x7f78e2e4b0d9 0x7f78e2e4b0d9\n",
            "---- 1 lines tagged in 49.3725s ----\n"
          ],
          "name": "stdout"
        }
      ]
    },
    {
      "metadata": {
        "id": "gQnk9x1t7k0l",
        "colab_type": "text"
      },
      "cell_type": "markdown",
      "source": [
        "**Upon executing script for precision recall , following were the results for Spanish corpus which was quite high as compared to its counterpart corpus:**\n",
        "\n",
        "\n",
        "1.   Precision : 86.51108904336311\n",
        "2.   Recall :       84.60666882486242\n",
        "3.   F-score :    0.8554828150572831"
      ]
    }
  ]
}